{
 "cells": [
  {
   "cell_type": "code",
   "execution_count": 1,
   "id": "658f2920",
   "metadata": {},
   "outputs": [],
   "source": [
    "import pandas as pd\n",
    "import numpy as np\n",
    "from sklearn.model_selection import train_test_split\n",
    "from sklearn.preprocessing import StandardScaler\n",
    "from sklearn.metrics import mean_squared_error\n",
    "from tensorflow.keras.models import Sequential\n",
    "from tensorflow.keras.layers import Conv2D, MaxPooling2D, Flatten, Dense\n",
    "from tensorflow.keras.utils import to_categorical\n"
   ]
  },
  {
   "cell_type": "code",
   "execution_count": 3,
   "id": "98ad7ad2",
   "metadata": {},
   "outputs": [],
   "source": [
    "data = pd.read_csv('mnist_train.csv')\n"
   ]
  },
  {
   "cell_type": "code",
   "execution_count": 4,
   "id": "d650bfc2",
   "metadata": {},
   "outputs": [],
   "source": [
    "#Separate the features (RGB pixel values) and labels from the data:\n",
    "features = data.iloc[:, :-1].values\n",
    "labels = data.iloc[:, -1].values"
   ]
  },
  {
   "cell_type": "code",
   "execution_count": 21,
   "id": "8b5c2d79",
   "metadata": {},
   "outputs": [
    {
     "data": {
      "image/png": "[encoded data removed]",
      "text/plain": [
       "<Figure size 1500x300 with 5 Axes>"
      ]
     },
     "metadata": {},
     "output_type": "display_data"
    }
   ],
   "source": [
    "import matplotlib.pyplot as plt\n",
    "import numpy as np\n",
    "\n",
    "# Convert the images to grayscale\n",
    "gray_images = np.squeeze(features, axis=-1)\n",
    "\n",
    "# Display the first five grayscale images\n",
    "fig, axes = plt.subplots(1, 5, figsize=(15, 3))\n",
    "\n",
    "for i, ax in enumerate(axes):\n",
    "    ax.imshow(gray_images[i], cmap='gray')\n",
    "    ax.set_title(f\"Image {i+1}\")\n",
    "    ax.axis('off')\n",
    "\n",
    "plt.show()\n"
   ]
  },
  {
   "cell_type": "code",
   "execution_count": 6,
   "id": "c71cb580",
   "metadata": {},
   "outputs": [],
   "source": [
    "#Reshape the features to match the image dimensions:\n",
    "features = features.reshape(-1,28, 28, 1)\n"
   ]
  },
  {
   "cell_type": "code",
   "execution_count": 7,
   "id": "9e7e75b9",
   "metadata": {},
   "outputs": [],
   "source": [
    "# Convert labels to numeric values\n",
    "labels = labels.astype('float32')"
   ]
  },
  {
   "cell_type": "code",
   "execution_count": 8,
   "id": "aa92fb1b",
   "metadata": {},
   "outputs": [],
   "source": [
    "#Split the data into training and test sets:\n",
    "train_features, test_features, train_labels, test_labels = train_test_split(features, labels, test_size=0.2, random_state=42)\n"
   ]
  },
  {
   "cell_type": "code",
   "execution_count": 9,
   "id": "d67b6d66",
   "metadata": {},
   "outputs": [],
   "source": [
    "#Normalize the pixel values:\n",
    "train_features = train_features.astype('float32') / 255.0\n",
    "test_features = test_features.astype('float32') / 255.0"
   ]
  },
  {
   "cell_type": "code",
   "execution_count": 11,
   "id": "fd759915",
   "metadata": {},
   "outputs": [],
   "source": [
    "image_height=28\n",
    "image_width=28\n",
    "num_channels=1"
   ]
  },
  {
   "cell_type": "code",
   "execution_count": 13,
   "id": "1d87a4ce",
   "metadata": {},
   "outputs": [],
   "source": [
    "#Standardize the features using StandardScaler:\n",
    "scaler = StandardScaler()\n",
    "train_features = scaler.fit_transform(train_features.reshape(-1, image_height * image_width * num_channels)).reshape(-1, image_height, image_width, num_channels)\n",
    "test_features = scaler.transform(test_features.reshape(-1, image_height * image_width * num_channels)).reshape(-1, image_height, image_width, num_channels)"
   ]
  },
  {
   "cell_type": "code",
   "execution_count": 14,
   "id": "03b4dc24",
   "metadata": {},
   "outputs": [],
   "source": [
    "#Convert the labels to categorical format if necessary:\n",
    "num_classes = len(np.unique(labels))\n",
    "train_labels = to_categorical(train_labels, num_classes)\n",
    "test_labels = to_categorical(test_labels, num_classes)\n"
   ]
  },
  {
   "cell_type": "code",
   "execution_count": 15,
   "id": "e5364016",
   "metadata": {},
   "outputs": [],
   "source": [
    "#Build the CNN model:\n",
    "model = Sequential()\n",
    "model.add(Conv2D(32, kernel_size=(3, 3), activation='relu', input_shape=(image_height, image_width, num_channels)))\n",
    "model.add(MaxPooling2D(pool_size=(2, 2)))\n",
    "model.add(Flatten())\n",
    "model.add(Dense(128, activation='relu'))\n",
    "model.add(Dense(num_classes, activation='softmax'))\n"
   ]
  },
  {
   "cell_type": "code",
   "execution_count": 16,
   "id": "dd8112d8",
   "metadata": {},
   "outputs": [],
   "source": [
    "#Compile the model:\n",
    "model.compile(optimizer='adam', loss='categorical_crossentropy', metrics=['accuracy'])\n"
   ]
  },
  {
   "cell_type": "code",
   "execution_count": 17,
   "id": "3ba5bd21",
   "metadata": {},
   "outputs": [],
   "source": [
    "#Build the model\n",
    "model = Sequential()\n",
    "model.add(Conv2D(32, kernel_size=(3, 3), activation='relu', input_shape=(image_height, image_width, num_channels)))\n",
    "model.add(MaxPooling2D(pool_size=(2, 2)))\n",
    "model.add(Flatten())\n",
    "model.add(Dense(128, activation='relu'))\n",
    "model.add(Dense(num_classes, activation='softmax'))\n"
   ]
  },
  {
   "cell_type": "code",
   "execution_count": 18,
   "id": "c6ff153c",
   "metadata": {},
   "outputs": [
    {
     "name": "stdout",
     "output_type": "stream",
     "text": [
      "375/375 [==============================] - 5s 12ms/step\n"
     ]
    }
   ],
   "source": [
    "#Make predictions on the test set:\n",
    "y_pred = model.predict(test_features)\n"
   ]
  },
  {
   "cell_type": "code",
   "execution_count": 19,
   "id": "c4e457c5",
   "metadata": {},
   "outputs": [
    {
     "name": "stdout",
     "output_type": "stream",
     "text": [
      "RMSE: 0.0\n"
     ]
    }
   ],
   "source": [
    "#Calculate rmse\n",
    "rmse = np.sqrt(mean_squared_error(test_labels, y_pred))\n",
    "print(\"RMSE:\", rmse)\n"
   ]
  },
  {
   "cell_type": "code",
   "execution_count": 22,
   "id": "bfc10596",
   "metadata": {},
   "outputs": [
    {
     "name": "stdout",
     "output_type": "stream",
     "text": [
      "1500/1500 [==============================] - 15s 10ms/step\n",
      "Train RMSE: 1.0\n"
     ]
    }
   ],
   "source": [
    "\n",
    "# Calculate the RMSE\n",
    "train_predictions = model.predict(train_features)\n",
    "train_predictions = np.argmax(train_predictions, axis=1)\n",
    "train_rmse = np.sqrt(mean_squared_error(train_labels, train_predictions))\n",
    "print(\"Train RMSE:\", train_rmse)"
   ]
  },
  {
   "cell_type": "code",
   "execution_count": 24,
   "id": "0ce84199",
   "metadata": {},
   "outputs": [
    {
     "name": "stdout",
     "output_type": "stream",
     "text": [
      "375/375 [==============================] - 4s 11ms/step\n",
      "Test RMSE: 1.0\n"
     ]
    }
   ],
   "source": [
    "test_predictions = model.predict(test_features)\n",
    "test_predictions = np.argmax(test_predictions, axis=1)\n",
    "test_rmse = np.sqrt(mean_squared_error(test_labels, test_predictions))\n",
    "print(\"Test RMSE:\", test_rmse)"
   ]
  },
  {
   "cell_type": "code",
   "execution_count": 26,
   "id": "db903c6a",
   "metadata": {},
   "outputs": [
    {
     "data": {
      "image/png": "[encoded data removed]",
      "text/plain": [
       "<Figure size 640x480 with 1 Axes>"
      ]
     },
     "metadata": {},
     "output_type": "display_data"
    }
   ],
   "source": [
    "import matplotlib.pyplot as plt\n",
    "\n",
    "# Assuming you have two arrays: actual_values and predicted_values\n",
    "\n",
    "# Plot histogram for actual values\n",
    "plt.hist(test_labels, bins=10, color='blue', alpha=0.5, label='Actual Values')\n",
    "\n",
    "# Plot histogram for predicted values\n",
    "plt.hist(test_predictions, bins=10, color='red', alpha=0.5, label='Predicted Values')\n",
    "\n",
    "# Add labels and legend\n",
    "plt.xlabel('Value')\n",
    "plt.ylabel('Frequency')\n",
    "plt.title('Histogram of Actual vs Predicted Values')\n",
    "plt.legend()\n",
    "\n",
    "# Show the plot\n",
    "plt.show()\n"
   ]
  },
  {
   "cell_type": "code",
   "execution_count": null,
   "id": "3397d6e7",
   "metadata": {},
   "outputs": [],
   "source": []
  }
 ],
 "metadata": {
  "kernelspec": {
   "display_name": "Python 3 (ipykernel)",
   "language": "python",
   "name": "python3"
  },
  "language_info": {
   "codemirror_mode": {
    "name": "ipython",
    "version": 3
   },
   "file_extension": ".py",
   "mimetype": "text/x-python",
   "name": "python",
   "nbconvert_exporter": "python",
   "pygments_lexer": "ipython3",
   "version": "3.10.9"
  }
 },
 "nbformat": 4,
 "nbformat_minor": 5
}
