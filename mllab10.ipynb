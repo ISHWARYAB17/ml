{
 "cells": [
  {
   "cell_type": "code",
   "execution_count": 25,
   "id": "c184b194",
   "metadata": {},
   "outputs": [
    {
     "name": "stdout",
     "output_type": "stream",
     "text": [
      "Conversion completed. The data has been saved to combined_data.csv\n"
     ]
    }
   ],
   "source": [
    "import csv\n",
    "import os\n",
    "\n",
    "# Set the column names\n",
    "column_names = ['File', 'Frame', 'Label', 'Confidence Score']\n",
    "\n",
    "# Define the output CSV file path\n",
    "output_file = 'combined_data.csv'\n",
    "\n",
    "# Initialize the CSV writer\n",
    "with open(output_file, 'w', newline='') as csvfile:\n",
    "    writer = csv.writer(csvfile)\n",
    "    writer.writerow(column_names)\n",
    "\n",
    "    # Loop through the text files\n",
    "    for file_name in os.listdir('.'):\n",
    "        if file_name.endswith('.txt'):\n",
    "            with open(file_name, 'r') as txtfile:\n",
    "                lines = txtfile.readlines()\n",
    "                for line in lines:\n",
    "                    # Split the line by comma and extract the values\n",
    "                    values = line.strip().split(',')\n",
    "                    file_info = values[0]\n",
    "                    frame_info = values[1]\n",
    "                    label = values[2]\n",
    "                    confidence = values[3]\n",
    "\n",
    "                    # Write the values to the CSV file\n",
    "                    writer.writerow([file_info, frame_info, label, confidence])\n",
    "\n",
    "print('Conversion completed. The data has been saved to', output_file)\n",
    "\n"
   ]
  },
  {
   "cell_type": "code",
   "execution_count": 26,
   "id": "f729e35b",
   "metadata": {},
   "outputs": [],
   "source": [
    "import pandas as pd\n",
    "\n",
    "# Load the dataset into a DataFrame\n",
    "df = pd.read_csv('combined_data.csv')\n"
   ]
  },
  {
   "cell_type": "code",
   "execution_count": 45,
   "id": "8cd139ee",
   "metadata": {},
   "outputs": [],
   "source": [
    "from sklearn.preprocessing import LabelEncoder\n",
    "\n",
    "# Label encode the 'File' column\n",
    "label_encoder = LabelEncoder()\n",
    "df['File'] = label_encoder.fit_transform(df['File'])\n",
    "# Label encode the 'Frame' column\n",
    "df['Frame'] = label_encoder.fit_transform(df['Frame'])"
   ]
  },
  {
   "cell_type": "code",
   "execution_count": 46,
   "id": "f7a6e845",
   "metadata": {},
   "outputs": [],
   "source": [
    "# Assuming the input features are stored in columns 'File', 'Frame', and 'Confidence Score'\n",
    "# and the output label is stored in the column 'Label'\n",
    "X = df[['File', 'Frame', 'Confidence Score']]\n",
    "y = df['Label']\n"
   ]
  },
  {
   "cell_type": "code",
   "execution_count": 47,
   "id": "4911bb70",
   "metadata": {},
   "outputs": [],
   "source": [
    "from sklearn.model_selection import train_test_split\n",
    "\n",
    "# Split the data into 70% training and 30% testing\n",
    "X_train, X_test, y_train, y_test = train_test_split(X, y, test_size=0.3, random_state=42)\n"
   ]
  },
  {
   "cell_type": "code",
   "execution_count": 48,
   "id": "a47e543b",
   "metadata": {},
   "outputs": [
    {
     "name": "stdout",
     "output_type": "stream",
     "text": [
      "   File  Frame  Label  Confidence Score\n",
      "0     0      0      1          0.434810\n",
      "1     0     25      0          0.343729\n",
      "2     0     51      1          0.712848\n",
      "3     0     61      0          0.334875\n",
      "4     0     81      1          0.462185\n",
      "5     0    103      0          0.374878\n",
      "6     0    123      1          0.437471\n",
      "7     0    143      0          0.344431\n",
      "8     0    169      0          0.331099\n",
      "9     0    183      1          0.490142\n"
     ]
    }
   ],
   "source": [
    "print(df.head(10))\n"
   ]
  },
  {
   "cell_type": "code",
   "execution_count": 49,
   "id": "c69d0ed3",
   "metadata": {},
   "outputs": [],
   "source": [
    "from sklearn.tree import DecisionTreeClassifier\n",
    "\n",
    "# Create a decision tree classifier as the base model\n",
    "base_model = DecisionTreeClassifier()\n"
   ]
  },
  {
   "cell_type": "code",
   "execution_count": 50,
   "id": "0fed9fc4",
   "metadata": {},
   "outputs": [],
   "source": [
    "# Fit the model on the training data\n",
    "base_model.fit(X_train, y_train)\n",
    "\n",
    "# Make predictions on the testing data\n",
    "y_pred = base_model.predict(X_test)\n"
   ]
  },
  {
   "cell_type": "code",
   "execution_count": 51,
   "id": "7ee2d3f1",
   "metadata": {},
   "outputs": [
    {
     "name": "stdout",
     "output_type": "stream",
     "text": [
      "Base Model Accuracy: 0.7998579293198366\n"
     ]
    }
   ],
   "source": [
    "from sklearn.metrics import accuracy_score\n",
    "\n",
    "# Calculate the accuracy of the model\n",
    "accuracy = accuracy_score(y_test, y_pred)\n",
    "print('Base Model Accuracy:', accuracy)\n"
   ]
  },
  {
   "cell_type": "code",
   "execution_count": 52,
   "id": "a3e169b2",
   "metadata": {},
   "outputs": [],
   "source": [
    "from sklearn.ensemble import VotingClassifier, RandomForestClassifier\n",
    "\n",
    "# Create a voting classifier with the base model and additional classifiers\n",
    "voting_classifier = VotingClassifier(estimators=[('base', base_model), ('rf', RandomForestClassifier())])\n",
    "\n",
    "# Fit the voting classifier on the training data\n",
    "voting_classifier.fit(X_train, y_train)\n",
    "\n",
    "# Make predictions using the voting classifier\n",
    "y_pred_voting = voting_classifier.predict(X_test)\n"
   ]
  },
  {
   "cell_type": "code",
   "execution_count": 53,
   "id": "21c84ace",
   "metadata": {},
   "outputs": [
    {
     "name": "stderr",
     "output_type": "stream",
     "text": [
      "C:\\Users\\PSK\\anaconda3\\lib\\site-packages\\sklearn\\ensemble\\_base.py:166: FutureWarning: `base_estimator` was renamed to `estimator` in version 1.2 and will be removed in 1.4.\n",
      "  warnings.warn(\n"
     ]
    }
   ],
   "source": [
    "from sklearn.ensemble import AdaBoostClassifier, GradientBoostingClassifier\n",
    "\n",
    "# Create an AdaBoost classifier with the base model\n",
    "adaboost_classifier = AdaBoostClassifier(base_estimator=base_model)\n",
    "\n",
    "# Fit the AdaBoost classifier on the training data\n",
    "adaboost_classifier.fit(X_train, y_train)\n",
    "\n",
    "# Make predictions using the AdaBoost classifier\n",
    "y_pred_adaboost = adaboost_classifier.predict(X_test)\n"
   ]
  },
  {
   "cell_type": "code",
   "execution_count": 54,
   "id": "c2eb6040",
   "metadata": {},
   "outputs": [
    {
     "name": "stdout",
     "output_type": "stream",
     "text": [
      "Voting Classifier Accuracy: 0.8348428343100692\n",
      "AdaBoost Classifier Accuracy: 0.7984372225182028\n"
     ]
    }
   ],
   "source": [
    "accuracy_voting = accuracy_score(y_test, y_pred_voting)\n",
    "accuracy_adaboost = accuracy_score(y_test, y_pred_adaboost)\n",
    "\n",
    "print('Voting Classifier Accuracy:', accuracy_voting)\n",
    "print('AdaBoost Classifier Accuracy:', accuracy_adaboost)\n"
   ]
  },
  {
   "cell_type": "code",
   "execution_count": 55,
   "id": "c395428d",
   "metadata": {},
   "outputs": [
    {
     "data": {
      "image/png": "[encoded data removed]",
      "text/plain": [
       "<Figure size 640x480 with 1 Axes>"
      ]
     },
     "metadata": {},
     "output_type": "display_data"
    }
   ],
   "source": [
    "import matplotlib.pyplot as plt\n",
    "\n",
    "methods = ['Base Model', 'Voting Classifier', 'AdaBoost Classifier']\n",
    "accuracies = [accuracy, accuracy_voting, accuracy_adaboost]\n",
    "\n",
    "plt.bar(methods, accuracies)\n",
    "plt.xlabel('Ensemble Techniques')\n",
    "plt.ylabel('Accuracy')\n",
    "plt.title('Accuracy of Different Ensemble Methods')\n",
    "plt.show()\n"
   ]
  },
  {
   "cell_type": "code",
   "execution_count": null,
   "id": "34cba47f",
   "metadata": {},
   "outputs": [],
   "source": []
  }
 ],
 "metadata": {
  "kernelspec": {
   "display_name": "Python 3 (ipykernel)",
   "language": "python",
   "name": "python3"
  },
  "language_info": {
   "codemirror_mode": {
    "name": "ipython",
    "version": 3
   },
   "file_extension": ".py",
   "mimetype": "text/x-python",
   "name": "python",
   "nbconvert_exporter": "python",
   "pygments_lexer": "ipython3",
   "version": "3.10.9"
  }
 },
 "nbformat": 4,
 "nbformat_minor": 5
}
