{
 "cells": [
  {
   "cell_type": "code",
   "execution_count": 1,
   "id": "d826547b",
   "metadata": {},
   "outputs": [],
   "source": [
    "import pandas as pd\n",
    "import numpy as np\n",
    "from sklearn.model_selection import train_test_split\n",
    "from sklearn.preprocessing import StandardScaler\n",
    "from sklearn.metrics import mean_squared_error\n",
    "from tensorflow.keras.models import Sequential\n",
    "from tensorflow.keras.layers import Conv2D, MaxPooling2D, Flatten, Dense\n",
    "from tensorflow.keras.utils import to_categorical"
   ]
  },
  {
   "cell_type": "code",
   "execution_count": 2,
   "id": "0d2cffe7",
   "metadata": {},
   "outputs": [],
   "source": [
    "# Load the train and test datasets\n",
    "train_data = pd.read_csv('emnist-bymerge-train.csv', header=None)\n",
    "test_data = pd.read_csv('emnist-bymerge-test.csv', header=None)"
   ]
  },
  {
   "cell_type": "code",
   "execution_count": 3,
   "id": "cab9f853",
   "metadata": {},
   "outputs": [],
   "source": [
    "# Separate features and labels\n",
    "train_features = train_data.iloc[:, 1:]\n",
    "train_labels = train_data.iloc[:, 0]\n",
    "test_features = test_data.iloc[:, 1:]\n",
    "test_labels = test_data.iloc[:, 0]"
   ]
  },
  {
   "cell_type": "code",
   "execution_count": 4,
   "id": "3d997362",
   "metadata": {},
   "outputs": [],
   "source": [
    "# Reshape the features\n",
    "train_features = train_features.values.reshape(-1, 28, 28, 1)\n",
    "test_features = test_features.values.reshape(-1, 28, 28, 1)"
   ]
  },
  {
   "cell_type": "code",
   "execution_count": 5,
   "id": "1056182c",
   "metadata": {},
   "outputs": [],
   "source": [
    "# Convert labels to numeric values\n",
    "train_labels = train_labels.astype('float32')\n",
    "test_labels = test_labels.astype('float32')"
   ]
  },
  {
   "cell_type": "code",
   "execution_count": 6,
   "id": "bd7712c1",
   "metadata": {},
   "outputs": [
    {
     "data": {
      "image/png": "[encoded data removed]",
      "text/plain": [
       "<Figure size 1500x300 with 5 Axes>"
      ]
     },
     "metadata": {},
     "output_type": "display_data"
    }
   ],
   "source": [
    "import matplotlib.pyplot as plt\n",
    "\n",
    "# Display the first five images\n",
    "fig, axes = plt.subplots(1, 5, figsize=(15, 3))\n",
    "\n",
    "for i, ax in enumerate(axes):\n",
    "    ax.imshow(train_features[i])\n",
    "    ax.set_title(f\"Image {i+1}\")\n",
    "    ax.axis('off')\n",
    "\n",
    "plt.show()"
   ]
  },
  {
   "cell_type": "code",
   "execution_count": 7,
   "id": "963ca5fe",
   "metadata": {},
   "outputs": [],
   "source": [
    "# Split the data into training and validation sets\n",
    "train_features, val_features, train_labels, val_labels = train_test_split(train_features, train_labels, test_size=0.2, random_state=42)"
   ]
  },
  {
   "cell_type": "code",
   "execution_count": 8,
   "id": "215f4739",
   "metadata": {},
   "outputs": [],
   "source": [
    "# Standardize features using StandardScaler\n",
    "scaler = StandardScaler()\n",
    "train_features = scaler.fit_transform(train_features.reshape(-1, 784)).reshape(-1, 28, 28, 1)\n",
    "val_features = scaler.transform(val_features.reshape(-1, 784)).reshape(-1, 28, 28, 1)\n",
    "test_features = scaler.transform(test_features.reshape(-1, 784)).reshape(-1, 28, 28, 1)"
   ]
  },
  {
   "cell_type": "code",
   "execution_count": 9,
   "id": "c130293f",
   "metadata": {},
   "outputs": [],
   "source": [
    "# Convert labels to categorical format\n",
    "num_classes = 47  # Replace with the actual number of classes in your dataset\n",
    "train_labels = to_categorical(train_labels, num_classes)\n",
    "val_labels = to_categorical(val_labels, num_classes)\n",
    "test_labels = to_categorical(test_labels, num_classes)"
   ]
  },
  {
   "cell_type": "code",
   "execution_count": 10,
   "id": "98708257",
   "metadata": {},
   "outputs": [],
   "source": [
    "# Build the CNN model\n",
    "model = Sequential()\n",
    "model.add(Conv2D(32, kernel_size=(3, 3), activation='relu', input_shape=(28, 28, 1)))\n",
    "model.add(MaxPooling2D(pool_size=(2, 2)))\n",
    "model.add(Flatten())\n",
    "model.add(Dense(128, activation='relu'))\n",
    "model.add(Dense(num_classes, activation='softmax'))"
   ]
  },
  {
   "cell_type": "code",
   "execution_count": 11,
   "id": "776d6952",
   "metadata": {},
   "outputs": [],
   "source": [
    "# Compile the model\n",
    "model.compile(optimizer='adam', loss='categorical_crossentropy', metrics=['accuracy'])\n"
   ]
  },
  {
   "cell_type": "code",
   "execution_count": 12,
   "id": "2850fc04",
   "metadata": {},
   "outputs": [
    {
     "name": "stdout",
     "output_type": "stream",
     "text": [
      "Epoch 1/10\n",
      "4363/4363 [==============================] - 179s 41ms/step - loss: 0.4941 - accuracy: 0.8416 - val_loss: 0.3831 - val_accuracy: 0.8713\n",
      "Epoch 2/10\n",
      "4363/4363 [==============================] - 155s 35ms/step - loss: 0.3533 - accuracy: 0.8787 - val_loss: 0.3558 - val_accuracy: 0.8801\n",
      "Epoch 3/10\n",
      "4363/4363 [==============================] - 151s 35ms/step - loss: 0.3235 - accuracy: 0.8868 - val_loss: 0.3401 - val_accuracy: 0.8833\n",
      "Epoch 4/10\n",
      "4363/4363 [==============================] - 148s 34ms/step - loss: 0.3041 - accuracy: 0.8915 - val_loss: 0.3338 - val_accuracy: 0.8857\n",
      "Epoch 5/10\n",
      "4363/4363 [==============================] - 159s 36ms/step - loss: 0.2909 - accuracy: 0.8950 - val_loss: 0.3399 - val_accuracy: 0.8852\n",
      "Epoch 6/10\n",
      "4363/4363 [==============================] - 157s 36ms/step - loss: 0.2796 - accuracy: 0.8979 - val_loss: 0.3334 - val_accuracy: 0.8875\n",
      "Epoch 7/10\n",
      "4363/4363 [==============================] - 153s 35ms/step - loss: 0.2708 - accuracy: 0.9005 - val_loss: 0.3378 - val_accuracy: 0.8881\n",
      "Epoch 8/10\n",
      "4363/4363 [==============================] - 158s 36ms/step - loss: 0.2632 - accuracy: 0.9028 - val_loss: 0.3365 - val_accuracy: 0.8877\n",
      "Epoch 9/10\n",
      "4363/4363 [==============================] - 157s 36ms/step - loss: 0.2561 - accuracy: 0.9045 - val_loss: 0.3499 - val_accuracy: 0.8870\n",
      "Epoch 10/10\n",
      "4363/4363 [==============================] - 149s 34ms/step - loss: 0.2507 - accuracy: 0.9065 - val_loss: 0.3485 - val_accuracy: 0.8880\n"
     ]
    },
    {
     "data": {
      "text/plain": [
       "<keras.callbacks.History at 0x21fac6374c0>"
      ]
     },
     "execution_count": 12,
     "metadata": {},
     "output_type": "execute_result"
    }
   ],
   "source": [
    "# Train the model\n",
    "model.fit(train_features, train_labels, batch_size=128, epochs=10, validation_data=(val_features, val_labels))\n"
   ]
  },
  {
   "cell_type": "code",
   "execution_count": 13,
   "id": "aa5f90bb",
   "metadata": {},
   "outputs": [
    {
     "name": "stdout",
     "output_type": "stream",
     "text": [
      "3636/3636 [==============================] - 14s 4ms/step\n"
     ]
    }
   ],
   "source": [
    "# Make predictions on the test set\n",
    "y_pred = model.predict(test_features)"
   ]
  },
  {
   "cell_type": "code",
   "execution_count": 14,
   "id": "e1c21d2f",
   "metadata": {},
   "outputs": [
    {
     "name": "stdout",
     "output_type": "stream",
     "text": [
      "RMSE: 0.0588524\n"
     ]
    }
   ],
   "source": [
    "# Calculate RMSE\n",
    "rmse = np.sqrt(mean_squared_error(test_labels, y_pred))\n",
    "print(\"RMSE:\", rmse)"
   ]
  }
 ],
 "metadata": {
  "kernelspec": {
   "display_name": "Python 3 (ipykernel)",
   "language": "python",
   "name": "python3"
  },
  "language_info": {
   "codemirror_mode": {
    "name": "ipython",
    "version": 3
   },
   "file_extension": ".py",
   "mimetype": "text/x-python",
   "name": "python",
   "nbconvert_exporter": "python",
   "pygments_lexer": "ipython3",
   "version": "3.10.9"
  }
 },
 "nbformat": 4,
 "nbformat_minor": 5
}
